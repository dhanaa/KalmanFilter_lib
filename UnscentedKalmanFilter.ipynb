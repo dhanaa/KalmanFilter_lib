{
 "cells": [
  {
   "cell_type": "code",
   "execution_count": null,
   "metadata": {
    "collapsed": true
   },
   "outputs": [],
   "source": [
    "UKF\n",
    "https://web.statler.wvu.edu/~irl/IRL_WVU_Online_UKF_Implementation_V1.0_06_28_2013.pdf"
   ]
  },
  {
   "cell_type": "code",
   "execution_count": 1,
   "metadata": {
    "collapsed": true
   },
   "outputs": [],
   "source": [
    "import numpy as np\n",
    "from scipy import linalg"
   ]
  },
  {
   "cell_type": "code",
   "execution_count": null,
   "metadata": {
    "collapsed": true
   },
   "outputs": [],
   "source": [
    "def sigmaUpdate(x,p,L,lam):\n",
    "    '''\n",
    "    Generate sigma points\n",
    "    '''\n",
    "    p_lower = linalg.cholesky(p)\n",
    "    x1_ = x.dot(np.ones((L,1)))\n",
    "    x2_ = np.sqrt(L+lam)*p_lower\n",
    "    X = np.vstack((x, x1_ + x2_, x1_ - x2_))\n",
    "    return X\n",
    "\n",
    "def predictTransform(X):\n",
    "    Xm = np.empty((1,L))\n",
    "    for x in X:\n",
    "        Xm = np.vstack((Xm,f(x)))\n",
    "    xm = wm * Xm\n",
    "    pm = Q;\n",
    "    for i in range(2*L+1):\n",
    "        pm += wc[0][i] * (Xm[i] - xm).T * (Xm(i) - xm)\n",
    "\n",
    "def observationTransform():\n",
    "    Ym = np.empty((1,M))\n",
    "    for x in Xm:\n",
    "        Ym = np.vstack((Ym,h(x)))\n",
    "    ym = wm * Ym\n",
    "    Pyy = R\n",
    "    Pxy = np.zeros((L,M))\n",
    "    for i in range(2*L+1):\n",
    "        Pyy += wc[0][i] * (Ym[i] - ym).T * (Ym[i] - ym)\n",
    "        Pxy += wc[0][i] * (Xm[i] - xm).T * (Ym[i] - ym)\n",
    "\n",
    "def measurementUpdate():\n",
    "    K = Pxy.dot(linalg.inv(Pyy))\n",
    "    x = xm + (y - ym).dot(K.T)\n",
    "    p = pm - K.dot(Pyy).dot(K.T)"
   ]
  },
  {
   "cell_type": "code",
   "execution_count": 45,
   "metadata": {
    "collapsed": false
   },
   "outputs": [],
   "source": [
    "class UnscentedKF:\n",
    "    L = 4\n",
    "    alpha = 1\n",
    "    beta = 2\n",
    "    kappa = 0\n",
    "    lam = alpha**2 * (L+kappa) - L\n",
    "    wm = np.ones((1,2*L+1)) / (2*(L+lam))\n",
    "    wc = wm\n",
    "    wm[0][0] = lam/(lam+L)\n",
    "    wc[0][0] = lam/(lam+L) + 1 - alpha**2 + beta\n",
    "    \n",
    "    def __init__(self, SysFuc, ObsFunc, Qnoise, Rnoise, IniX, IniP, SysPara):\n",
    "        self.L = Qnoise.shape[0]\n",
    "        self.M = Rnoise.shape[0]\n",
    "        self.alpha = SysPara[0]\n",
    "        self.beta = SysPara[1]\n",
    "        self.kappa = SysPara[2]\n",
    "        self.lam = self.alpha**2 * (self.L+self.kappa) - self.L\n",
    "        self.wm = np.ones((1,2*self.L+1)) / (2*(self.L+self.lam))\n",
    "        self.wc = self.wm\n",
    "        self.wm[0][0] = self.lam/(self.lam+self.L)\n",
    "        self.wc[0][0] = self.lam/(self.lam+self.L) + 1 - self.alpha**2 + self.beta\n",
    "        self.x0 = IniX\n",
    "        self.p0 = IniP\n",
    "        self.Q = Q\n",
    "        self.R = R\n",
    "        \n",
    "        print('Initialization complete')\n",
    "    \n",
    "    def sigmaUpdate(self,x,p):\n",
    "        '''\n",
    "        Generate sigma points\n",
    "        '''\n",
    "        p_lower = linalg.cholesky(p)\n",
    "        x1_ = x.dot(np.ones((self.L,1)))\n",
    "        x2_ = np.sqrt(self.L+self.lam)*p_lower\n",
    "        SigmaPoints = np.vstack((x, x1_ + x2_, x1_ - x2_))\n",
    "        return SigmaPoints\n",
    "\n",
    "    def UnscentedTransform(self, SigmaPoints):\n",
    "        Xm = np.empty((1,self.L))\n",
    "        for x in SigmaPoints:\n",
    "            Xm = np.vstack((Xm,f(SigmaPoints)))\n",
    "        xm = self.wm * Xm\n",
    "        pm = self.Q;\n",
    "        for i in range(2*self.L+1):\n",
    "            pm += self.wc[0][i] * (Xm[i] - xm).T * (Xm(i) - xm)\n",
    "        \n",
    "        Ym = np.empty((1,self.M))\n",
    "        for x in Xm:\n",
    "            Ym = np.vstack((Ym,h(Xm)))\n",
    "        ym = self.wm * Ym\n",
    "        Pyy = self.R\n",
    "        Pxy = np.zeros((self.L,self.M))\n",
    "        for i in range(2*self.L+1):\n",
    "            Pyy += self.wc[0][i] * (Ym[i] - ym).T * (Ym[i] - ym)\n",
    "            Pxy += self.wc[0][i] * (Xm[i] - xm).T * (Ym[i] - ym)\n",
    "            \n",
    "        return Pyy, Pxy, ym, xm, pm\n",
    "\n",
    "    def measurementUpdate(self,Pyy,Pxy,ym,xm,pm,y):\n",
    "        K = Pxy.dot(linalg.inv(Pyy))\n",
    "        x = xm + (y - ym).dot(K.T)\n",
    "        p = pm - K.dot(Pyy).dot(K.T)\n",
    "        return x,p\n",
    "        \n",
    "    def UKF_oneStep(self,x,p):\n",
    "        '''\n",
    "        One step UKF update\n",
    "        '''\n",
    "        SigmaPoints = self.sigmaUpdate(x,p)\n",
    "        Pyy,Pxy,ym,xm,pm = self.UnscentedTransform(SigmaPoints)\n",
    "        x,p = self.measurementUpdate(Pyy,Pxy,ym,xm,pm,y)\n",
    "        \n",
    "        return x,p\n",
    "        "
   ]
  },
  {
   "cell_type": "code",
   "execution_count": 39,
   "metadata": {
    "collapsed": false
   },
   "outputs": [
    {
     "name": "stdout",
     "output_type": "stream",
     "text": [
      "he4\n"
     ]
    }
   ],
   "source": [
    "example = UnscentedKF(4)"
   ]
  },
  {
   "cell_type": "code",
   "execution_count": 2,
   "metadata": {
    "collapsed": true
   },
   "outputs": [],
   "source": [
    "aa = np.array([1,2,3])\n",
    "bb = np.array([[4,5,6]])\n",
    "cc = np.array([[7,8,9],[55,55,55]])"
   ]
  },
  {
   "cell_type": "code",
   "execution_count": 22,
   "metadata": {
    "collapsed": true
   },
   "outputs": [
    {
     "ename": "ValueError",
     "evalue": "all the input arrays must have same number of dimensions",
     "output_type": "error",
     "traceback": [
      "\u001b[0;31m---------------------------------------------------------------------------\u001b[0m",
      "\u001b[0;31mValueError\u001b[0m                                Traceback (most recent call last)",
      "\u001b[0;32m<ipython-input-22-ba636056b0d6>\u001b[0m in \u001b[0;36m<module>\u001b[0;34m()\u001b[0m\n\u001b[0;32m----> 1\u001b[0;31m \u001b[0mdd\u001b[0m\u001b[1;33m=\u001b[0m \u001b[0mnp\u001b[0m\u001b[1;33m.\u001b[0m\u001b[0mappend\u001b[0m\u001b[1;33m(\u001b[0m\u001b[0maa\u001b[0m\u001b[1;33m,\u001b[0m\u001b[0mcc\u001b[0m\u001b[1;33m,\u001b[0m\u001b[0maxis\u001b[0m\u001b[1;33m=\u001b[0m\u001b[1;36m0\u001b[0m\u001b[1;33m)\u001b[0m\u001b[1;33m\u001b[0m\u001b[0m\n\u001b[0m\u001b[1;32m      2\u001b[0m \u001b[0mprint\u001b[0m\u001b[1;33m(\u001b[0m\u001b[0mdd\u001b[0m\u001b[1;33m)\u001b[0m\u001b[1;33m\u001b[0m\u001b[0m\n",
      "\u001b[0;32mC:\\Users\\wert\\Anaconda3\\lib\\site-packages\\numpy\\lib\\function_base.py\u001b[0m in \u001b[0;36mappend\u001b[0;34m(arr, values, axis)\u001b[0m\n\u001b[1;32m   4584\u001b[0m         \u001b[0mvalues\u001b[0m \u001b[1;33m=\u001b[0m \u001b[0mravel\u001b[0m\u001b[1;33m(\u001b[0m\u001b[0mvalues\u001b[0m\u001b[1;33m)\u001b[0m\u001b[1;33m\u001b[0m\u001b[0m\n\u001b[1;32m   4585\u001b[0m         \u001b[0maxis\u001b[0m \u001b[1;33m=\u001b[0m \u001b[0marr\u001b[0m\u001b[1;33m.\u001b[0m\u001b[0mndim\u001b[0m\u001b[1;33m-\u001b[0m\u001b[1;36m1\u001b[0m\u001b[1;33m\u001b[0m\u001b[0m\n\u001b[0;32m-> 4586\u001b[0;31m     \u001b[1;32mreturn\u001b[0m \u001b[0mconcatenate\u001b[0m\u001b[1;33m(\u001b[0m\u001b[1;33m(\u001b[0m\u001b[0marr\u001b[0m\u001b[1;33m,\u001b[0m \u001b[0mvalues\u001b[0m\u001b[1;33m)\u001b[0m\u001b[1;33m,\u001b[0m \u001b[0maxis\u001b[0m\u001b[1;33m=\u001b[0m\u001b[0maxis\u001b[0m\u001b[1;33m)\u001b[0m\u001b[1;33m\u001b[0m\u001b[0m\n\u001b[0m\u001b[1;32m   4587\u001b[0m \u001b[1;33m\u001b[0m\u001b[0m\n",
      "\u001b[0;31mValueError\u001b[0m: all the input arrays must have same number of dimensions"
     ]
    }
   ],
   "source": [
    "dd= np.append(aa,cc,axis=0)\n",
    "print(dd)"
   ]
  },
  {
   "cell_type": "code",
   "execution_count": 23,
   "metadata": {
    "collapsed": false
   },
   "outputs": [
    {
     "name": "stdout",
     "output_type": "stream",
     "text": [
      "[[ 1  2  3]\n",
      " [ 7  8  9]\n",
      " [55 55 55]\n",
      " [ 4  5  6]]\n"
     ]
    }
   ],
   "source": [
    "ee = np.vstack((aa,cc,bb))\n",
    "print(ee)"
   ]
  },
  {
   "cell_type": "code",
   "execution_count": 31,
   "metadata": {
    "collapsed": false
   },
   "outputs": [
    {
     "name": "stdout",
     "output_type": "stream",
     "text": [
      "[[ 4.  5.  6.]\n",
      " [ 4.  5.  6.]\n",
      " [ 4.  5.  6.]]\n"
     ]
    }
   ],
   "source": [
    "dd = np.ones((3,1))\n",
    "ee = dd.dot(bb)\n",
    "print(ee)"
   ]
  },
  {
   "cell_type": "code",
   "execution_count": 42,
   "metadata": {
    "collapsed": true
   },
   "outputs": [
    {
     "ename": "IndexError",
     "evalue": "index 1 is out of bounds for axis 0 with size 1",
     "output_type": "error",
     "traceback": [
      "\u001b[0;31m---------------------------------------------------------------------------\u001b[0m",
      "\u001b[0;31mIndexError\u001b[0m                                Traceback (most recent call last)",
      "\u001b[0;32m<ipython-input-42-7b44349875bb>\u001b[0m in \u001b[0;36m<module>\u001b[0;34m()\u001b[0m\n\u001b[0;32m----> 1\u001b[0;31m \u001b[0mbb\u001b[0m\u001b[1;33m[\u001b[0m\u001b[1;36m1\u001b[0m\u001b[1;33m]\u001b[0m\u001b[1;33m\u001b[0m\u001b[0m\n\u001b[0m",
      "\u001b[0;31mIndexError\u001b[0m: index 1 is out of bounds for axis 0 with size 1"
     ]
    }
   ],
   "source": [
    "bb[1]"
   ]
  }
 ],
 "metadata": {
  "kernelspec": {
   "display_name": "Python [default]",
   "language": "python",
   "name": "python3"
  },
  "language_info": {
   "codemirror_mode": {
    "name": "ipython",
    "version": 3
   },
   "file_extension": ".py",
   "mimetype": "text/x-python",
   "name": "python",
   "nbconvert_exporter": "python",
   "pygments_lexer": "ipython3",
   "version": "3.5.2"
  }
 },
 "nbformat": 4,
 "nbformat_minor": 1
}
