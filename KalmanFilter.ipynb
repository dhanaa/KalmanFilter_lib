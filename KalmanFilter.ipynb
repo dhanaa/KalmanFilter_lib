{
 "cells": [
  {
   "cell_type": "code",
   "execution_count": null,
   "metadata": {
    "collapsed": true,
    "nbpresent": {
     "id": "31fd0547-e9b6-449b-a424-c98ef99e8dea"
    }
   },
   "outputs": [],
   "source": [
    "'''\n",
    "Kalman filter \n",
    "\n",
    "This module demonstrates the standard Kalman filter implementation.\n",
    "\n",
    "Assume the system model:\n",
    "x(k+1) = A*x(k) + w(k)\n",
    "y(k) = C*x(k) + v(k)\n",
    "where x is the state, y is the measurement, k is time index, w,v are Gaussian noises with covariance Q,R respectively.\n",
    "\n",
    "For Kalman filter, please refer to \n",
    "http://www.cs.unc.edu/~tracker/media/pdf/SIGGRAPH2001_CoursePack_08.pdf  (pp.24)\n",
    "\n",
    "---\n",
    "Example\n",
    "\n",
    "If you have the system parameters, e.g., A,C,Q,R and the initial conditions, e.g. x_0 and P_0 which are the initial estimate\n",
    "on state x and initial estimation error covariance, you can use the Kalman filter in this module in two ways:\n",
    "\n",
    "Case 1:\n",
    "If you are running a real-time system and want to filter the signal x(k) from y(k), y(k-1).... y(0), you can do\n",
    "a) at time 0, you have the initial guess as the priori estimate and covarariance for the next-step estimation.\n",
    "b) at time k, you input your last-step estimate e(k-1) and error covariance P(k-1), your measurement y(k), and system \n",
    "    parameters into the function KalmanFilterUpdate(e(k-1), P(k-1), y(k), A, C, Q, R) and obtain a new estimate e(k) and \n",
    "    its error covariance P(k), e.g., \n",
    "        e(k), P(k) = KalmanFilterUpdate(e(k-1), P(k-1), y(k), A, C, Q, R)\n",
    "c) jump to step b) and loop.\n",
    "\n",
    "Case 2:\n",
    "If you have all the measurements already, you can get all estimate and its corresponding error covariance in a lump sum.\n",
    "You can use\n",
    "        x_est, P_est = KalmanFilterBatch(y, A, C, Q, R, xInit, pInit)\n",
    "If the initial conditions are missing, default conditions will be used.\n",
    "Note that this is NOT a smoothing algorithm.\n",
    "\n",
    "---\n",
    "\n",
    "Example code:\n",
    "\n",
    "# the measurements here are generated randomly\n",
    "y = np.random.rand(100,3)\n",
    "A = [[1,0],[0,1.1]]\n",
    "C = np.array([[2,1],[1,2],[3,2.3]])\n",
    "Q = np.eye(2)\n",
    "R = np.eye(3)\n",
    "xx, pp = KalmanFilterBatch(y,A,C,Q,R)\n",
    "print(pp[100])\n",
    "pri, pos = SteadyCov(A,C,Q,R)\n",
    "print(pos)\n",
    "# we can see that pp[100] and pos are indeed the same.\n",
    "\n",
    "\n",
    "---\n",
    "\n",
    "Author: Duo HAN\n",
    "Email: dhanaa@connect.ust.hk\n",
    "Date: 2017.3.8\n",
    "'''\n",
    "\n",
    "import numpy as np\n",
    "from scipy import linalg\n",
    "\n",
    "def KalmanFilterUpdate(xPri,pPri,y,A,C,Q,R):\n",
    "    '''\n",
    "    One-step Kalman filter\n",
    "    \n",
    "    Input\n",
    "    -------\n",
    "    xPri: numpy.ndarray or list\n",
    "        n-dim vector representing the priori estimate\n",
    "    pPri: numpy.ndarray or list\n",
    "        n*n matrix which is the priori error covariance\n",
    "    y: numpy.ndarray or list\n",
    "        m-dim vector representing the measurement\n",
    "    A, Q: numpy.ndarray or list\n",
    "        n*n matrix\n",
    "    C: numpy.ndarray or list\n",
    "        m*n matrix\n",
    "    R: numpy.ndarray or list\n",
    "        m*m matrix\n",
    "    \n",
    "    Output\n",
    "    -------\n",
    "    xPos: numpy.ndarray or list\n",
    "        n-dim vector representing the posteriori estimate\n",
    "    pPos:\n",
    "        n*n matrix representing the posteriori error covariance\n",
    "\n",
    "    \n",
    "    '''\n",
    "    # transform the input into np.array if they are lists\n",
    "    xPri =  np.asarray(xPri)\n",
    "    pPri = np.asarray(pPri)\n",
    "    y = np.asarray(y)\n",
    "    A = np.asarray(A)\n",
    "    C = np.asarray(C)\n",
    "    Q = np.asarray(Q)\n",
    "    R = np.asarray(R)\n",
    "    \n",
    "    # initialization\n",
    "    xPri = xPri.squeeze()\n",
    "    y = y.squeeze()\n",
    "    n = len(xPri)\n",
    "    m = len(y)\n",
    "    \n",
    "    # time update\n",
    "    xPos = A.dot(xPri)\n",
    "    pPos = A.dot(pPri).dot(A.T) + Q\n",
    "    \n",
    "    # measurement update\n",
    "    K = pPos.dot(C.T).dot(np.linalg.inv(C.dot(pPos).dot(C.T) + R))\n",
    "    xPos = xPos + K.dot( y - C.dot(xPos) )\n",
    "    pPos = (np.eye(n) - K.dot(C)).dot(pPos)\n",
    "    \n",
    "    return xPos,pPos\n",
    "\n",
    "def KalmanFilterBatch(y, A, C, Q, R, xInit = np.zeros(len(A),), pInit = np.eye(len(A))):\n",
    "    '''\n",
    "    Kalman filter for a batch of measurements\n",
    "    \n",
    "    Input\n",
    "    -------\n",
    "    y: numpy.ndarray or list\n",
    "        A total T number of m-dim vectors representing a sequence of measurements\n",
    "    A, Q: numpy.ndarray or list\n",
    "        n*n matrix\n",
    "    C: numpy.ndarray or list\n",
    "        m*n matrix\n",
    "    R: numpy.ndarray or list\n",
    "        m*m matrix\n",
    "    xInit: numpy.ndarray or list\n",
    "        n-dim vector representing the initial estimate\n",
    "    pInit: numpy.ndarray or list\n",
    "        n*n matrix which is the initial error covariance\n",
    "    \n",
    "    Output\n",
    "    -------\n",
    "    xEst: numpy.ndarray or list\n",
    "        T number of n-dim vectors representing the estimate at time k\n",
    "    pCov:\n",
    "        T number of n*n matrices representing the error covariance at time k\n",
    "\n",
    "    \n",
    "    '''\n",
    "    # transform the input into np.array if they are lists\n",
    "    y = np.asarray(y)\n",
    "    A = np.asarray(A)\n",
    "    C = np.asarray(C)\n",
    "    Q = np.asarray(Q)\n",
    "    R = np.asarray(R)\n",
    "\n",
    "    # initialization\n",
    "    n,_ = A.shape\n",
    "    x = xInit\n",
    "    p = pInit\n",
    "    xEst = [x]\n",
    "    pCov = [pInit]\n",
    "    \n",
    "    # check if the measurement is 1-dimensional\n",
    "    if (y.ndim==1):\n",
    "        x,p = KalmanFilterUpdate(x,p,y,A,C,Q,R)\n",
    "        return x,p\n",
    "    \n",
    "    # recursively run the Kalman filter update using the measurement\n",
    "    T,m = y.shape\n",
    "    for k in range(T):\n",
    "        x,p = KalmanFilterUpdate(x,p,y[k],A,C,Q,R)\n",
    "        xEst.append(x)\n",
    "        pCov.append(p)\n",
    "    return xEst, pCov\n",
    "\n",
    "def SteadyCov(A, C, Q, R):\n",
    "    '''\n",
    "    Compute the steady-state estimation covariance of Kalman filter, independent of measurements.\n",
    "    \n",
    "    Input\n",
    "    -------\n",
    "    A, Q: numpy.ndarray or list\n",
    "        n*n matrix\n",
    "    C: numpy.ndarray or list\n",
    "        m*n matrix\n",
    "    R: numpy.ndarray or list\n",
    "        m*m matrix\n",
    "    \n",
    "    Output\n",
    "    -------\n",
    "    pPri: numpy.ndarray or list\n",
    "        n*n matrix, steady-state priori error covariance\n",
    "    pPos: numpy.ndarray or list\n",
    "        n*n matrix, steady-state posteriori error covariance\n",
    "\n",
    "    \n",
    "    '''\n",
    "    # transform the input into np.array if they are lists\n",
    "    A = np.asarray(A)\n",
    "    C = np.asarray(C)\n",
    "    Q = np.asarray(Q)\n",
    "    R = np.asarray(R)\n",
    "    \n",
    "    # solve the discrete algebraic Riccati equation\n",
    "    pPri = linalg.solve_discrete_are(A.T,C.T,Q,R)\n",
    "    # compute the posteriori covariance from the priori covariance\n",
    "    K = pPri.dot(C.T).dot(np.linalg.inv(C.dot(pPri).dot(C.T) + R))\n",
    "    pPos = pPri - (K.dot(C)).dot(pPri)\n",
    "    \n",
    "    return pPri,pPos"
   ]
  }
 ],
 "metadata": {
  "anaconda-cloud": {},
  "kernelspec": {
   "display_name": "Python [default]",
   "language": "python",
   "name": "python3"
  },
  "language_info": {
   "codemirror_mode": {
    "name": "ipython",
    "version": 3
   },
   "file_extension": ".py",
   "mimetype": "text/x-python",
   "name": "python",
   "nbconvert_exporter": "python",
   "pygments_lexer": "ipython3",
   "version": "3.5.2"
  },
  "nbpresent": {
   "slides": {},
   "themes": {
    "default": "795687b4-b081-4fd0-94b6-bbd5f8eb1c8d",
    "theme": {
     "1daa3ab4-72ee-4af0-a8f0-931441c9782f": {
      "backgrounds": {
       "backgroundColor": {
        "background-color": "backgroundColor",
        "id": "backgroundColor"
       }
      },
      "id": "1daa3ab4-72ee-4af0-a8f0-931441c9782f",
      "palette": {
       "backgroundColor": {
        "id": "backgroundColor",
        "rgb": [
         240,
         241,
         235
        ]
       },
       "headingColor": {
        "id": "headingColor",
        "rgb": [
         56,
         61,
         61
        ]
       },
       "linkColor": {
        "id": "linkColor",
        "rgb": [
         81,
         72,
         61
        ]
       },
       "mainColor": {
        "id": "mainColor",
        "rgb": [
         0,
         0,
         0
        ]
       }
      },
      "rules": {
       "a": {
        "color": "linkColor"
       },
       "h1": {
        "color": "headingColor",
        "font-family": "EB Garamond",
        "font-size": 7
       },
       "h2": {
        "color": "headingColor",
        "font-family": "EB Garamond",
        "font-size": 5
       },
       "h3": {
        "color": "headingColor",
        "font-family": "EB Garamond",
        "font-size": 3.75
       },
       "h4": {
        "color": "headingColor",
        "font-family": "EB Garamond",
        "font-size": 3
       },
       "h5": {
        "color": "headingColor",
        "font-family": "EB Garamond"
       },
       "h6": {
        "color": "headingColor",
        "font-family": "EB Garamond"
       },
       "h7": {
        "color": "headingColor",
        "font-family": "EB Garamond"
       },
       "li": {
        "color": "mainColor",
        "font-family": "EB Garamond",
        "font-size": 5
       },
       "p": {
        "color": "mainColor",
        "font-family": "EB Garamond",
        "font-size": 5
       }
      },
      "text-base": {
       "color": "mainColor",
       "font-family": "EB Garamond",
       "font-size": 5
      }
     },
     "795687b4-b081-4fd0-94b6-bbd5f8eb1c8d": {
      "id": "795687b4-b081-4fd0-94b6-bbd5f8eb1c8d",
      "palette": {
       "19cc588f-0593-49c9-9f4b-e4d7cc113b1c": {
        "id": "19cc588f-0593-49c9-9f4b-e4d7cc113b1c",
        "rgb": [
         252,
         252,
         252
        ]
       },
       "31af15d2-7e15-44c5-ab5e-e04b16a89eff": {
        "id": "31af15d2-7e15-44c5-ab5e-e04b16a89eff",
        "rgb": [
         68,
         68,
         68
        ]
       },
       "50f92c45-a630-455b-aec3-788680ec7410": {
        "id": "50f92c45-a630-455b-aec3-788680ec7410",
        "rgb": [
         155,
         177,
         192
        ]
       },
       "c5cc3653-2ee1-402a-aba2-7caae1da4f6c": {
        "id": "c5cc3653-2ee1-402a-aba2-7caae1da4f6c",
        "rgb": [
         43,
         126,
         184
        ]
       },
       "efa7f048-9acb-414c-8b04-a26811511a21": {
        "id": "efa7f048-9acb-414c-8b04-a26811511a21",
        "rgb": [
         25.118061674008803,
         73.60176211453744,
         107.4819383259912
        ]
       }
      },
      "rules": {
       "blockquote": {
        "color": "50f92c45-a630-455b-aec3-788680ec7410"
       },
       "code": {
        "font-family": "Anonymous Pro"
       },
       "h1": {
        "color": "c5cc3653-2ee1-402a-aba2-7caae1da4f6c",
        "font-family": "Lato",
        "font-size": 8
       },
       "h2": {
        "color": "c5cc3653-2ee1-402a-aba2-7caae1da4f6c",
        "font-family": "Lato",
        "font-size": 6
       },
       "h3": {
        "color": "50f92c45-a630-455b-aec3-788680ec7410",
        "font-family": "Lato",
        "font-size": 5.5
       },
       "h4": {
        "color": "c5cc3653-2ee1-402a-aba2-7caae1da4f6c",
        "font-family": "Lato",
        "font-size": 5
       },
       "h5": {
        "font-family": "Lato"
       },
       "h6": {
        "font-family": "Lato"
       },
       "h7": {
        "font-family": "Lato"
       },
       "pre": {
        "font-family": "Anonymous Pro",
        "font-size": 4
       }
      },
      "text-base": {
       "font-family": "Merriweather",
       "font-size": 4
      }
     },
     "9a498382-0c0e-4796-bca4-6ada77b1b199": {
      "backgrounds": {
       "backgroundColor": {
        "background-color": "backgroundColor",
        "id": "backgroundColor"
       }
      },
      "id": "9a498382-0c0e-4796-bca4-6ada77b1b199",
      "palette": {
       "backgroundColor": {
        "id": "backgroundColor",
        "rgb": [
         34,
         34,
         34
        ]
       },
       "headingColor": {
        "id": "headingColor",
        "rgb": [
         238,
         238,
         238
        ]
       },
       "linkColor": {
        "id": "linkColor",
        "rgb": [
         170,
         34,
         51
        ]
       },
       "mainColor": {
        "id": "mainColor",
        "rgb": [
         238,
         238,
         238
        ]
       }
      },
      "rules": {
       "a": {
        "color": "linkColor"
       },
       "h1": {
        "color": "headingColor",
        "font-family": "Ubuntu",
        "font-size": 7
       },
       "h2": {
        "color": "headingColor",
        "font-family": "Ubuntu",
        "font-size": 5
       },
       "h3": {
        "color": "headingColor",
        "font-family": "Ubuntu",
        "font-size": 3.75
       },
       "h4": {
        "color": "headingColor",
        "font-family": "Ubuntu",
        "font-size": 3
       },
       "h5": {
        "color": "headingColor",
        "font-family": "Ubuntu"
       },
       "h6": {
        "color": "headingColor",
        "font-family": "Ubuntu"
       },
       "h7": {
        "color": "headingColor",
        "font-family": "Ubuntu"
       },
       "li": {
        "color": "mainColor",
        "font-family": "Ubuntu",
        "font-size": 5
       },
       "p": {
        "color": "mainColor",
        "font-family": "Ubuntu",
        "font-size": 5
       }
      },
      "text-base": {
       "color": "mainColor",
       "font-family": "Ubuntu",
       "font-size": 5
      }
     }
    }
   }
  }
 },
 "nbformat": 4,
 "nbformat_minor": 1
}
